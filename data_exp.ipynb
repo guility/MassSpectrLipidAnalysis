{
 "cells": [
  {
   "cell_type": "code",
   "execution_count": 15,
   "metadata": {},
   "outputs": [],
   "source": [
    "import pandas as pd\n",
    "import numpy as np"
   ]
  },
  {
   "cell_type": "code",
   "execution_count": 2,
   "metadata": {},
   "outputs": [],
   "source": [
    "vals = pd.read_csv('train/train_df.csv')"
   ]
  },
  {
   "cell_type": "code",
   "execution_count": 4,
   "metadata": {},
   "outputs": [
    {
     "data": {
      "text/html": [
       "<div>\n",
       "<style scoped>\n",
       "    .dataframe tbody tr th:only-of-type {\n",
       "        vertical-align: middle;\n",
       "    }\n",
       "\n",
       "    .dataframe tbody tr th {\n",
       "        vertical-align: top;\n",
       "    }\n",
       "\n",
       "    .dataframe thead th {\n",
       "        text-align: right;\n",
       "    }\n",
       "</style>\n",
       "<table border=\"1\" class=\"dataframe\">\n",
       "  <thead>\n",
       "    <tr style=\"text-align: right;\">\n",
       "      <th></th>\n",
       "      <th>feat1</th>\n",
       "      <th>feat2</th>\n",
       "      <th>feat3</th>\n",
       "      <th>feat4</th>\n",
       "      <th>feat5</th>\n",
       "      <th>feat6</th>\n",
       "      <th>feat7</th>\n",
       "      <th>feat8</th>\n",
       "      <th>feat9</th>\n",
       "      <th>feat10</th>\n",
       "      <th>...</th>\n",
       "      <th>feat1857</th>\n",
       "      <th>feat1858</th>\n",
       "      <th>feat1859</th>\n",
       "      <th>feat1860</th>\n",
       "      <th>feat1861</th>\n",
       "      <th>feat1862</th>\n",
       "      <th>feat1863</th>\n",
       "      <th>feat1864</th>\n",
       "      <th>feat1865</th>\n",
       "      <th>feat1866</th>\n",
       "    </tr>\n",
       "  </thead>\n",
       "  <tbody>\n",
       "    <tr>\n",
       "      <th>count</th>\n",
       "      <td>94.000000</td>\n",
       "      <td>94.000000</td>\n",
       "      <td>94.000000</td>\n",
       "      <td>94.000000</td>\n",
       "      <td>94.000000</td>\n",
       "      <td>94.000000</td>\n",
       "      <td>94.000000</td>\n",
       "      <td>94.000000</td>\n",
       "      <td>94.000000</td>\n",
       "      <td>94.000000</td>\n",
       "      <td>...</td>\n",
       "      <td>94.000000</td>\n",
       "      <td>94.000000</td>\n",
       "      <td>94.000000</td>\n",
       "      <td>94.000000</td>\n",
       "      <td>94.000000</td>\n",
       "      <td>94.000000</td>\n",
       "      <td>94.000000</td>\n",
       "      <td>94.000000</td>\n",
       "      <td>94.000000</td>\n",
       "      <td>94.000000</td>\n",
       "    </tr>\n",
       "    <tr>\n",
       "      <th>mean</th>\n",
       "      <td>16.622875</td>\n",
       "      <td>21.866266</td>\n",
       "      <td>19.688995</td>\n",
       "      <td>18.449492</td>\n",
       "      <td>21.766771</td>\n",
       "      <td>15.049737</td>\n",
       "      <td>16.677490</td>\n",
       "      <td>18.916106</td>\n",
       "      <td>16.030604</td>\n",
       "      <td>10.150430</td>\n",
       "      <td>...</td>\n",
       "      <td>15.212116</td>\n",
       "      <td>13.180254</td>\n",
       "      <td>9.620701</td>\n",
       "      <td>12.378089</td>\n",
       "      <td>12.147206</td>\n",
       "      <td>12.527977</td>\n",
       "      <td>10.204003</td>\n",
       "      <td>13.491883</td>\n",
       "      <td>11.240604</td>\n",
       "      <td>8.557930</td>\n",
       "    </tr>\n",
       "    <tr>\n",
       "      <th>std</th>\n",
       "      <td>0.822726</td>\n",
       "      <td>0.611312</td>\n",
       "      <td>0.284272</td>\n",
       "      <td>0.446658</td>\n",
       "      <td>0.095108</td>\n",
       "      <td>1.422904</td>\n",
       "      <td>0.677536</td>\n",
       "      <td>0.577188</td>\n",
       "      <td>0.874054</td>\n",
       "      <td>0.620695</td>\n",
       "      <td>...</td>\n",
       "      <td>0.845815</td>\n",
       "      <td>1.233018</td>\n",
       "      <td>0.982778</td>\n",
       "      <td>1.337069</td>\n",
       "      <td>1.814396</td>\n",
       "      <td>1.476630</td>\n",
       "      <td>2.762713</td>\n",
       "      <td>1.396043</td>\n",
       "      <td>0.778348</td>\n",
       "      <td>1.698210</td>\n",
       "    </tr>\n",
       "    <tr>\n",
       "      <th>min</th>\n",
       "      <td>13.364076</td>\n",
       "      <td>20.542028</td>\n",
       "      <td>18.968309</td>\n",
       "      <td>17.488151</td>\n",
       "      <td>21.447586</td>\n",
       "      <td>11.925737</td>\n",
       "      <td>13.912280</td>\n",
       "      <td>17.405390</td>\n",
       "      <td>12.478572</td>\n",
       "      <td>8.952604</td>\n",
       "      <td>...</td>\n",
       "      <td>12.972007</td>\n",
       "      <td>10.371236</td>\n",
       "      <td>7.452541</td>\n",
       "      <td>7.611373</td>\n",
       "      <td>7.312330</td>\n",
       "      <td>7.890099</td>\n",
       "      <td>6.531108</td>\n",
       "      <td>8.323266</td>\n",
       "      <td>8.366748</td>\n",
       "      <td>6.753923</td>\n",
       "    </tr>\n",
       "    <tr>\n",
       "      <th>25%</th>\n",
       "      <td>16.092570</td>\n",
       "      <td>21.363362</td>\n",
       "      <td>19.529074</td>\n",
       "      <td>18.134482</td>\n",
       "      <td>21.718832</td>\n",
       "      <td>14.125456</td>\n",
       "      <td>16.277978</td>\n",
       "      <td>18.571449</td>\n",
       "      <td>15.706372</td>\n",
       "      <td>9.751829</td>\n",
       "      <td>...</td>\n",
       "      <td>14.636505</td>\n",
       "      <td>12.438246</td>\n",
       "      <td>8.981888</td>\n",
       "      <td>11.573749</td>\n",
       "      <td>11.400902</td>\n",
       "      <td>11.767453</td>\n",
       "      <td>7.291213</td>\n",
       "      <td>12.837180</td>\n",
       "      <td>10.718357</td>\n",
       "      <td>7.238925</td>\n",
       "    </tr>\n",
       "    <tr>\n",
       "      <th>50%</th>\n",
       "      <td>16.775372</td>\n",
       "      <td>21.895343</td>\n",
       "      <td>19.705776</td>\n",
       "      <td>18.453629</td>\n",
       "      <td>21.779703</td>\n",
       "      <td>15.135014</td>\n",
       "      <td>16.678712</td>\n",
       "      <td>18.912313</td>\n",
       "      <td>16.157614</td>\n",
       "      <td>10.110340</td>\n",
       "      <td>...</td>\n",
       "      <td>15.398257</td>\n",
       "      <td>13.232574</td>\n",
       "      <td>9.696089</td>\n",
       "      <td>12.597885</td>\n",
       "      <td>12.523242</td>\n",
       "      <td>12.734281</td>\n",
       "      <td>10.312755</td>\n",
       "      <td>13.864075</td>\n",
       "      <td>11.270964</td>\n",
       "      <td>7.643021</td>\n",
       "    </tr>\n",
       "    <tr>\n",
       "      <th>75%</th>\n",
       "      <td>17.177990</td>\n",
       "      <td>22.354347</td>\n",
       "      <td>19.862149</td>\n",
       "      <td>18.746438</td>\n",
       "      <td>21.841528</td>\n",
       "      <td>16.008331</td>\n",
       "      <td>17.135410</td>\n",
       "      <td>19.294630</td>\n",
       "      <td>16.598174</td>\n",
       "      <td>10.499253</td>\n",
       "      <td>...</td>\n",
       "      <td>15.868094</td>\n",
       "      <td>13.838850</td>\n",
       "      <td>10.321080</td>\n",
       "      <td>13.253796</td>\n",
       "      <td>13.284306</td>\n",
       "      <td>13.370170</td>\n",
       "      <td>12.831150</td>\n",
       "      <td>14.429664</td>\n",
       "      <td>11.808806</td>\n",
       "      <td>9.932692</td>\n",
       "    </tr>\n",
       "    <tr>\n",
       "      <th>max</th>\n",
       "      <td>18.603454</td>\n",
       "      <td>23.686176</td>\n",
       "      <td>20.888440</td>\n",
       "      <td>19.681113</td>\n",
       "      <td>21.910207</td>\n",
       "      <td>18.870839</td>\n",
       "      <td>18.342050</td>\n",
       "      <td>20.149437</td>\n",
       "      <td>17.717694</td>\n",
       "      <td>11.914791</td>\n",
       "      <td>...</td>\n",
       "      <td>16.935663</td>\n",
       "      <td>17.209155</td>\n",
       "      <td>12.158398</td>\n",
       "      <td>16.072760</td>\n",
       "      <td>16.626016</td>\n",
       "      <td>16.546124</td>\n",
       "      <td>15.542546</td>\n",
       "      <td>15.667183</td>\n",
       "      <td>12.857477</td>\n",
       "      <td>13.086475</td>\n",
       "    </tr>\n",
       "  </tbody>\n",
       "</table>\n",
       "<p>8 rows × 1866 columns</p>\n",
       "</div>"
      ],
      "text/plain": [
       "           feat1      feat2      feat3      feat4      feat5      feat6  \\\n",
       "count  94.000000  94.000000  94.000000  94.000000  94.000000  94.000000   \n",
       "mean   16.622875  21.866266  19.688995  18.449492  21.766771  15.049737   \n",
       "std     0.822726   0.611312   0.284272   0.446658   0.095108   1.422904   \n",
       "min    13.364076  20.542028  18.968309  17.488151  21.447586  11.925737   \n",
       "25%    16.092570  21.363362  19.529074  18.134482  21.718832  14.125456   \n",
       "50%    16.775372  21.895343  19.705776  18.453629  21.779703  15.135014   \n",
       "75%    17.177990  22.354347  19.862149  18.746438  21.841528  16.008331   \n",
       "max    18.603454  23.686176  20.888440  19.681113  21.910207  18.870839   \n",
       "\n",
       "           feat7      feat8      feat9     feat10    ...       feat1857  \\\n",
       "count  94.000000  94.000000  94.000000  94.000000    ...      94.000000   \n",
       "mean   16.677490  18.916106  16.030604  10.150430    ...      15.212116   \n",
       "std     0.677536   0.577188   0.874054   0.620695    ...       0.845815   \n",
       "min    13.912280  17.405390  12.478572   8.952604    ...      12.972007   \n",
       "25%    16.277978  18.571449  15.706372   9.751829    ...      14.636505   \n",
       "50%    16.678712  18.912313  16.157614  10.110340    ...      15.398257   \n",
       "75%    17.135410  19.294630  16.598174  10.499253    ...      15.868094   \n",
       "max    18.342050  20.149437  17.717694  11.914791    ...      16.935663   \n",
       "\n",
       "        feat1858   feat1859   feat1860   feat1861   feat1862   feat1863  \\\n",
       "count  94.000000  94.000000  94.000000  94.000000  94.000000  94.000000   \n",
       "mean   13.180254   9.620701  12.378089  12.147206  12.527977  10.204003   \n",
       "std     1.233018   0.982778   1.337069   1.814396   1.476630   2.762713   \n",
       "min    10.371236   7.452541   7.611373   7.312330   7.890099   6.531108   \n",
       "25%    12.438246   8.981888  11.573749  11.400902  11.767453   7.291213   \n",
       "50%    13.232574   9.696089  12.597885  12.523242  12.734281  10.312755   \n",
       "75%    13.838850  10.321080  13.253796  13.284306  13.370170  12.831150   \n",
       "max    17.209155  12.158398  16.072760  16.626016  16.546124  15.542546   \n",
       "\n",
       "        feat1864   feat1865   feat1866  \n",
       "count  94.000000  94.000000  94.000000  \n",
       "mean   13.491883  11.240604   8.557930  \n",
       "std     1.396043   0.778348   1.698210  \n",
       "min     8.323266   8.366748   6.753923  \n",
       "25%    12.837180  10.718357   7.238925  \n",
       "50%    13.864075  11.270964   7.643021  \n",
       "75%    14.429664  11.808806   9.932692  \n",
       "max    15.667183  12.857477  13.086475  \n",
       "\n",
       "[8 rows x 1866 columns]"
      ]
     },
     "execution_count": 4,
     "metadata": {},
     "output_type": "execute_result"
    }
   ],
   "source": [
    "vals.describe()"
   ]
  },
  {
   "cell_type": "code",
   "execution_count": 8,
   "metadata": {},
   "outputs": [],
   "source": [
    "from sklearn.metrics import pairwise_distances\n",
    "distances = pairwise_distances(vals.values[:,1:])"
   ]
  },
  {
   "cell_type": "code",
   "execution_count": 22,
   "metadata": {},
   "outputs": [],
   "source": [
    "dev = vals.values[:,1:]-np.mean(vals.values[:,1:], axis=0)"
   ]
  },
  {
   "cell_type": "code",
   "execution_count": 83,
   "metadata": {},
   "outputs": [],
   "source": [
    "dev_df = pd.DataFrame(np.abs(dev), index = vals.index)"
   ]
  },
  {
   "cell_type": "code",
   "execution_count": 45,
   "metadata": {},
   "outputs": [],
   "source": [
    "sorted_devs = dev[np.argsort(dev, axis=0)]"
   ]
  },
  {
   "cell_type": "code",
   "execution_count": 49,
   "metadata": {},
   "outputs": [
    {
     "data": {
      "text/plain": [
       "array([[0.5663132479305091, -1.0990630405246193, 0.21485732912073274,\n",
       "        ..., -2.7075520127393737, -1.2223539057437236,\n",
       "        2.2105393234428394],\n",
       "       [-0.10092186715445806, 0.33030885558862266, 0.13153487639770134,\n",
       "        ..., 1.2955855990991392, 0.27343152124639225, 2.3792381867395047],\n",
       "       [0.3085738506016398, -0.08055333804093578, 0.09910106037289168,\n",
       "        ..., 0.7353379978768224, 1.051638900115984, 2.7131432959349855],\n",
       "       ...,\n",
       "       [0.8179880099793557, 0.13421031228534375, 0.10852228051051682,\n",
       "        ..., 2.175299747477281, 0.9022624662871284, 2.5110797781676535],\n",
       "       [-0.30351644311665993, 0.065613851591106, -0.5485942948020117,\n",
       "        ..., 1.120390430442681, 0.9758165816959021, 0.3896298615214864],\n",
       "       [0.3797464142980367, 0.251068409801821, 0.19685151869965978, ...,\n",
       "        0.5917326424782576, 0.025437971532154435, -1.6871760238205846]],\n",
       "      dtype=object)"
      ]
     },
     "execution_count": 49,
     "metadata": {},
     "output_type": "execute_result"
    }
   ],
   "source": [
    "idx = {}\n",
    "for i, line in enumerate(dev):\n",
    "    for j,d in enumerate(line):\n",
    "        if dev[j,d]>"
   ]
  },
  {
   "cell_type": "code",
   "execution_count": 54,
   "metadata": {},
   "outputs": [],
   "source": [
    "means = vals.describe().loc['mean'].values"
   ]
  },
  {
   "cell_type": "code",
   "execution_count": 55,
   "metadata": {},
   "outputs": [],
   "source": [
    "stds = vals.describe().loc['std'].values"
   ]
  },
  {
   "cell_type": "code",
   "execution_count": 56,
   "metadata": {},
   "outputs": [],
   "source": [
    "prop_outliers = np.abs(dev) - 2*stds > 0"
   ]
  },
  {
   "cell_type": "code",
   "execution_count": 72,
   "metadata": {},
   "outputs": [
    {
     "name": "stdout",
     "output_type": "stream",
     "text": [
      "Wall time: 6.95 ms\n"
     ]
    }
   ],
   "source": [
    "len(np.nonzero(prop_outliers)[0])"
   ]
  },
  {
   "cell_type": "code",
   "execution_count": 102,
   "metadata": {},
   "outputs": [],
   "source": [
    "rates = np.abs(dev).max(axis=0)/stds"
   ]
  },
  {
   "cell_type": "code",
   "execution_count": 147,
   "metadata": {},
   "outputs": [],
   "source": [
    "outliers = {}\n",
    "freq = 1000\n",
    "\n",
    "for i in range(freq):\n",
    "    threshold = i/freq\n",
    "    outliers[threshold] = len(np.nonzero(np.abs(dev) - threshold*rates*stds > 0)[0])"
   ]
  },
  {
   "cell_type": "code",
   "execution_count": 150,
   "metadata": {},
   "outputs": [],
   "source": [
    "prop_out = pd.DataFrame(np.array(list(outliers.values())),index=np.array(list(outliers.keys())))"
   ]
  },
  {
   "cell_type": "code",
   "execution_count": 149,
   "metadata": {},
   "outputs": [
    {
     "data": {
      "text/plain": [
       "1834"
      ]
     },
     "execution_count": 149,
     "metadata": {},
     "output_type": "execute_result"
    }
   ],
   "source": [
    "len(np.nonzero(rates>2)[0])"
   ]
  },
  {
   "cell_type": "code",
   "execution_count": 190,
   "metadata": {},
   "outputs": [
    {
     "data": {
      "text/plain": [
       "<matplotlib.axes._subplots.AxesSubplot at 0x27612f12ef0>"
      ]
     },
     "execution_count": 190,
     "metadata": {},
     "output_type": "execute_result"
    },
    {
     "data": {
      "image/png": "[encoded data removed]",
      "text/plain": [
       "<Figure size 432x288 with 1 Axes>"
      ]
     },
     "metadata": {
      "needs_background": "light"
     },
     "output_type": "display_data"
    }
   ],
   "source": [
    "prop_out.plot()"
   ]
  },
  {
   "cell_type": "code",
   "execution_count": 162,
   "metadata": {},
   "outputs": [],
   "source": [
    "filt = np.nonzero(rates>2)[0]\n",
    "dev_filt = dev[:,filt]"
   ]
  },
  {
   "cell_type": "code",
   "execution_count": 163,
   "metadata": {},
   "outputs": [],
   "source": [
    "rates_filt = rates[filt]\n",
    "stds_filt = stds[filt]"
   ]
  },
  {
   "cell_type": "code",
   "execution_count": 170,
   "metadata": {},
   "outputs": [],
   "source": [
    "threshold = 0.999\n",
    "prop_outliers = np.nonzero(np.abs(dev) - threshold*rates*stds > 0)"
   ]
  },
  {
   "cell_type": "code",
   "execution_count": 178,
   "metadata": {},
   "outputs": [],
   "source": [
    "out_filt = []\n",
    "for i,j in zip(*prop_outliers):\n",
    "    if j in filt:\n",
    "        out_filt.append(np.array([i,j]))\n",
    "out_filt = np.array(out_filt)"
   ]
  },
  {
   "cell_type": "code",
   "execution_count": 183,
   "metadata": {},
   "outputs": [
    {
     "data": {
      "text/plain": [
       "(1844, 2)"
      ]
     },
     "execution_count": 183,
     "metadata": {},
     "output_type": "execute_result"
    }
   ],
   "source": [
    "out_filt"
   ]
  },
  {
   "cell_type": "code",
   "execution_count": 198,
   "metadata": {},
   "outputs": [],
   "source": [
    "import pandas as pd\n",
    "import numpy as np\n",
    "\n",
    "def detect_spectr_outliers(filepath, threshold = 0.999, level = 2):\n",
    "    vals = pd.read_csv(filepath)\n",
    "    dev = np.abs(vals.values[:,1:]-np.mean(vals.values[:,1:], axis=0))\n",
    "    desc = vals.describe()\n",
    "    means = desc.loc['mean'].values\n",
    "    stds = desc.loc['std'].values\n",
    "    rates = np.abs(dev).max(axis=0)/stds\n",
    "    prop_outliers = np.nonzero(np.abs(dev) - threshold*rates*stds > 0)\n",
    "    filt = np.nonzero(rates>level)[0]\n",
    "    out_filt = []\n",
    "    for i,j in zip(*prop_outliers):\n",
    "        if j in filt:\n",
    "            out_filt.append(np.array([i,j]))\n",
    "    out_filt = np.array(out_filt)\n",
    "    \n",
    "    return out_filt"
   ]
  },
  {
   "cell_type": "code",
   "execution_count": 199,
   "metadata": {},
   "outputs": [],
   "source": [
    "f_test = detect_spectr_outliers('train/train_df.csv')"
   ]
  },
  {
   "cell_type": "code",
   "execution_count": null,
   "metadata": {},
   "outputs": [],
   "source": []
  },
  {
   "cell_type": "code",
   "execution_count": null,
   "metadata": {},
   "outputs": [],
   "source": []
  }
 ],
 "metadata": {
  "kernelspec": {
   "display_name": "Python 3",
   "language": "python",
   "name": "python3"
  },
  "language_info": {
   "codemirror_mode": {
    "name": "ipython",
    "version": 3
   },
   "file_extension": ".py",
   "mimetype": "text/x-python",
   "name": "python",
   "nbconvert_exporter": "python",
   "pygments_lexer": "ipython3",
   "version": "3.6.1"
  }
 },
 "nbformat": 4,
 "nbformat_minor": 2
}
