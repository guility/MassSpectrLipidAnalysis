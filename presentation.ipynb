{
 "cells": [
  {
   "cell_type": "markdown",
   "metadata": {},
   "source": [
    "# Data Exploration"
   ]
  },
  {
   "cell_type": "code",
   "execution_count": 2,
   "metadata": {},
   "outputs": [],
   "source": [
    "import pandas as pd\n",
    "import numpy as np\n",
    "\n",
    "train_values = pd.read_csv('train/train_df.csv')\n",
    "train_signs = pd.read_csv('train/train_meta.csv')\n",
    "labels = {'autism':1,'control':0}\n",
    "labels_inv = {1:'autism',0:'control'}\n",
    "\n",
    "random_state = 42"
   ]
  },
  {
   "cell_type": "code",
   "execution_count": 6,
   "metadata": {},
   "outputs": [
    {
     "data": {
      "text/html": [
       "<div>\n",
       "<style scoped>\n",
       "    .dataframe tbody tr th:only-of-type {\n",
       "        vertical-align: middle;\n",
       "    }\n",
       "\n",
       "    .dataframe tbody tr th {\n",
       "        vertical-align: top;\n",
       "    }\n",
       "\n",
       "    .dataframe thead th {\n",
       "        text-align: right;\n",
       "    }\n",
       "</style>\n",
       "<table border=\"1\" class=\"dataframe\">\n",
       "  <thead>\n",
       "    <tr style=\"text-align: right;\">\n",
       "      <th></th>\n",
       "      <th>feat1</th>\n",
       "      <th>feat2</th>\n",
       "      <th>feat3</th>\n",
       "      <th>feat4</th>\n",
       "      <th>feat5</th>\n",
       "      <th>feat6</th>\n",
       "      <th>feat7</th>\n",
       "      <th>feat8</th>\n",
       "      <th>feat9</th>\n",
       "      <th>feat10</th>\n",
       "      <th>...</th>\n",
       "      <th>feat1857</th>\n",
       "      <th>feat1858</th>\n",
       "      <th>feat1859</th>\n",
       "      <th>feat1860</th>\n",
       "      <th>feat1861</th>\n",
       "      <th>feat1862</th>\n",
       "      <th>feat1863</th>\n",
       "      <th>feat1864</th>\n",
       "      <th>feat1865</th>\n",
       "      <th>feat1866</th>\n",
       "    </tr>\n",
       "  </thead>\n",
       "  <tbody>\n",
       "    <tr>\n",
       "      <th>count</th>\n",
       "      <td>94.000000</td>\n",
       "      <td>94.000000</td>\n",
       "      <td>94.000000</td>\n",
       "      <td>94.000000</td>\n",
       "      <td>94.000000</td>\n",
       "      <td>94.000000</td>\n",
       "      <td>94.000000</td>\n",
       "      <td>94.000000</td>\n",
       "      <td>94.000000</td>\n",
       "      <td>94.000000</td>\n",
       "      <td>...</td>\n",
       "      <td>94.000000</td>\n",
       "      <td>94.000000</td>\n",
       "      <td>94.000000</td>\n",
       "      <td>94.000000</td>\n",
       "      <td>94.000000</td>\n",
       "      <td>94.000000</td>\n",
       "      <td>94.000000</td>\n",
       "      <td>94.000000</td>\n",
       "      <td>94.000000</td>\n",
       "      <td>94.000000</td>\n",
       "    </tr>\n",
       "    <tr>\n",
       "      <th>mean</th>\n",
       "      <td>16.622875</td>\n",
       "      <td>21.866266</td>\n",
       "      <td>19.688995</td>\n",
       "      <td>18.449492</td>\n",
       "      <td>21.766771</td>\n",
       "      <td>15.049737</td>\n",
       "      <td>16.677490</td>\n",
       "      <td>18.916106</td>\n",
       "      <td>16.030604</td>\n",
       "      <td>10.150430</td>\n",
       "      <td>...</td>\n",
       "      <td>15.212116</td>\n",
       "      <td>13.180254</td>\n",
       "      <td>9.620701</td>\n",
       "      <td>12.378089</td>\n",
       "      <td>12.147206</td>\n",
       "      <td>12.527977</td>\n",
       "      <td>10.204003</td>\n",
       "      <td>13.491883</td>\n",
       "      <td>11.240604</td>\n",
       "      <td>8.557930</td>\n",
       "    </tr>\n",
       "    <tr>\n",
       "      <th>std</th>\n",
       "      <td>0.822726</td>\n",
       "      <td>0.611312</td>\n",
       "      <td>0.284272</td>\n",
       "      <td>0.446658</td>\n",
       "      <td>0.095108</td>\n",
       "      <td>1.422904</td>\n",
       "      <td>0.677536</td>\n",
       "      <td>0.577188</td>\n",
       "      <td>0.874054</td>\n",
       "      <td>0.620695</td>\n",
       "      <td>...</td>\n",
       "      <td>0.845815</td>\n",
       "      <td>1.233018</td>\n",
       "      <td>0.982778</td>\n",
       "      <td>1.337069</td>\n",
       "      <td>1.814396</td>\n",
       "      <td>1.476630</td>\n",
       "      <td>2.762713</td>\n",
       "      <td>1.396043</td>\n",
       "      <td>0.778348</td>\n",
       "      <td>1.698210</td>\n",
       "    </tr>\n",
       "    <tr>\n",
       "      <th>min</th>\n",
       "      <td>13.364076</td>\n",
       "      <td>20.542028</td>\n",
       "      <td>18.968309</td>\n",
       "      <td>17.488151</td>\n",
       "      <td>21.447586</td>\n",
       "      <td>11.925737</td>\n",
       "      <td>13.912280</td>\n",
       "      <td>17.405390</td>\n",
       "      <td>12.478572</td>\n",
       "      <td>8.952604</td>\n",
       "      <td>...</td>\n",
       "      <td>12.972007</td>\n",
       "      <td>10.371236</td>\n",
       "      <td>7.452541</td>\n",
       "      <td>7.611373</td>\n",
       "      <td>7.312330</td>\n",
       "      <td>7.890099</td>\n",
       "      <td>6.531108</td>\n",
       "      <td>8.323266</td>\n",
       "      <td>8.366748</td>\n",
       "      <td>6.753923</td>\n",
       "    </tr>\n",
       "    <tr>\n",
       "      <th>25%</th>\n",
       "      <td>16.092570</td>\n",
       "      <td>21.363362</td>\n",
       "      <td>19.529074</td>\n",
       "      <td>18.134482</td>\n",
       "      <td>21.718832</td>\n",
       "      <td>14.125456</td>\n",
       "      <td>16.277978</td>\n",
       "      <td>18.571449</td>\n",
       "      <td>15.706372</td>\n",
       "      <td>9.751829</td>\n",
       "      <td>...</td>\n",
       "      <td>14.636505</td>\n",
       "      <td>12.438246</td>\n",
       "      <td>8.981888</td>\n",
       "      <td>11.573749</td>\n",
       "      <td>11.400902</td>\n",
       "      <td>11.767453</td>\n",
       "      <td>7.291213</td>\n",
       "      <td>12.837180</td>\n",
       "      <td>10.718357</td>\n",
       "      <td>7.238925</td>\n",
       "    </tr>\n",
       "    <tr>\n",
       "      <th>50%</th>\n",
       "      <td>16.775372</td>\n",
       "      <td>21.895343</td>\n",
       "      <td>19.705776</td>\n",
       "      <td>18.453629</td>\n",
       "      <td>21.779703</td>\n",
       "      <td>15.135014</td>\n",
       "      <td>16.678712</td>\n",
       "      <td>18.912313</td>\n",
       "      <td>16.157614</td>\n",
       "      <td>10.110340</td>\n",
       "      <td>...</td>\n",
       "      <td>15.398257</td>\n",
       "      <td>13.232574</td>\n",
       "      <td>9.696089</td>\n",
       "      <td>12.597885</td>\n",
       "      <td>12.523242</td>\n",
       "      <td>12.734281</td>\n",
       "      <td>10.312755</td>\n",
       "      <td>13.864075</td>\n",
       "      <td>11.270964</td>\n",
       "      <td>7.643021</td>\n",
       "    </tr>\n",
       "    <tr>\n",
       "      <th>75%</th>\n",
       "      <td>17.177990</td>\n",
       "      <td>22.354347</td>\n",
       "      <td>19.862149</td>\n",
       "      <td>18.746438</td>\n",
       "      <td>21.841528</td>\n",
       "      <td>16.008331</td>\n",
       "      <td>17.135410</td>\n",
       "      <td>19.294630</td>\n",
       "      <td>16.598174</td>\n",
       "      <td>10.499253</td>\n",
       "      <td>...</td>\n",
       "      <td>15.868094</td>\n",
       "      <td>13.838850</td>\n",
       "      <td>10.321080</td>\n",
       "      <td>13.253796</td>\n",
       "      <td>13.284306</td>\n",
       "      <td>13.370170</td>\n",
       "      <td>12.831150</td>\n",
       "      <td>14.429664</td>\n",
       "      <td>11.808806</td>\n",
       "      <td>9.932692</td>\n",
       "    </tr>\n",
       "    <tr>\n",
       "      <th>max</th>\n",
       "      <td>18.603454</td>\n",
       "      <td>23.686176</td>\n",
       "      <td>20.888440</td>\n",
       "      <td>19.681113</td>\n",
       "      <td>21.910207</td>\n",
       "      <td>18.870839</td>\n",
       "      <td>18.342050</td>\n",
       "      <td>20.149437</td>\n",
       "      <td>17.717694</td>\n",
       "      <td>11.914791</td>\n",
       "      <td>...</td>\n",
       "      <td>16.935663</td>\n",
       "      <td>17.209155</td>\n",
       "      <td>12.158398</td>\n",
       "      <td>16.072760</td>\n",
       "      <td>16.626016</td>\n",
       "      <td>16.546124</td>\n",
       "      <td>15.542546</td>\n",
       "      <td>15.667183</td>\n",
       "      <td>12.857477</td>\n",
       "      <td>13.086475</td>\n",
       "    </tr>\n",
       "  </tbody>\n",
       "</table>\n",
       "<p>8 rows × 1866 columns</p>\n",
       "</div>"
      ],
      "text/plain": [
       "           feat1      feat2      feat3      feat4      feat5      feat6  \\\n",
       "count  94.000000  94.000000  94.000000  94.000000  94.000000  94.000000   \n",
       "mean   16.622875  21.866266  19.688995  18.449492  21.766771  15.049737   \n",
       "std     0.822726   0.611312   0.284272   0.446658   0.095108   1.422904   \n",
       "min    13.364076  20.542028  18.968309  17.488151  21.447586  11.925737   \n",
       "25%    16.092570  21.363362  19.529074  18.134482  21.718832  14.125456   \n",
       "50%    16.775372  21.895343  19.705776  18.453629  21.779703  15.135014   \n",
       "75%    17.177990  22.354347  19.862149  18.746438  21.841528  16.008331   \n",
       "max    18.603454  23.686176  20.888440  19.681113  21.910207  18.870839   \n",
       "\n",
       "           feat7      feat8      feat9     feat10    ...       feat1857  \\\n",
       "count  94.000000  94.000000  94.000000  94.000000    ...      94.000000   \n",
       "mean   16.677490  18.916106  16.030604  10.150430    ...      15.212116   \n",
       "std     0.677536   0.577188   0.874054   0.620695    ...       0.845815   \n",
       "min    13.912280  17.405390  12.478572   8.952604    ...      12.972007   \n",
       "25%    16.277978  18.571449  15.706372   9.751829    ...      14.636505   \n",
       "50%    16.678712  18.912313  16.157614  10.110340    ...      15.398257   \n",
       "75%    17.135410  19.294630  16.598174  10.499253    ...      15.868094   \n",
       "max    18.342050  20.149437  17.717694  11.914791    ...      16.935663   \n",
       "\n",
       "        feat1858   feat1859   feat1860   feat1861   feat1862   feat1863  \\\n",
       "count  94.000000  94.000000  94.000000  94.000000  94.000000  94.000000   \n",
       "mean   13.180254   9.620701  12.378089  12.147206  12.527977  10.204003   \n",
       "std     1.233018   0.982778   1.337069   1.814396   1.476630   2.762713   \n",
       "min    10.371236   7.452541   7.611373   7.312330   7.890099   6.531108   \n",
       "25%    12.438246   8.981888  11.573749  11.400902  11.767453   7.291213   \n",
       "50%    13.232574   9.696089  12.597885  12.523242  12.734281  10.312755   \n",
       "75%    13.838850  10.321080  13.253796  13.284306  13.370170  12.831150   \n",
       "max    17.209155  12.158398  16.072760  16.626016  16.546124  15.542546   \n",
       "\n",
       "        feat1864   feat1865   feat1866  \n",
       "count  94.000000  94.000000  94.000000  \n",
       "mean   13.491883  11.240604   8.557930  \n",
       "std     1.396043   0.778348   1.698210  \n",
       "min     8.323266   8.366748   6.753923  \n",
       "25%    12.837180  10.718357   7.238925  \n",
       "50%    13.864075  11.270964   7.643021  \n",
       "75%    14.429664  11.808806   9.932692  \n",
       "max    15.667183  12.857477  13.086475  \n",
       "\n",
       "[8 rows x 1866 columns]"
      ]
     },
     "execution_count": 6,
     "metadata": {},
     "output_type": "execute_result"
    }
   ],
   "source": [
    "train_values.describe()"
   ]
  },
  {
   "cell_type": "code",
   "execution_count": 10,
   "metadata": {},
   "outputs": [],
   "source": [
    "train_signs.diagnosis = np.vectorize(labels.__getitem__)(train_signs.diagnosis.values)"
   ]
  },
  {
   "cell_type": "code",
   "execution_count": null,
   "metadata": {},
   "outputs": [],
   "source": [
    "y_autists = train_values[train_signs.age<20][train_signs.diagnosis=='autism'].describe()\n",
    "o_autists = train_values[train_signs.age>20][train_signs.diagnosis=='autism'].describe()\n",
    "\n",
    "y_control = train_values[train_signs.age<20][train_signs.diagnosis=='control'].describe()\n",
    "o_control = train_values[train_signs.age>20][train_signs.diagnosis=='control'].describe()"
   ]
  },
  {
   "cell_type": "markdown",
   "metadata": {},
   "source": [
    "# Гипотеза: Пространственная локализация"
   ]
  },
  {
   "cell_type": "code",
   "execution_count": 27,
   "metadata": {},
   "outputs": [],
   "source": [
    "from sklearn.metrics import pairwise_distances\n",
    "dists_a = pairwise_distances(train_values[train_signs.diagnosis==1].values[:,1:])\n",
    "dists_c = pairwise_distances(train_values[train_signs.diagnosis==0].values[:,1:])\n",
    "dists_ac = pairwise_distances(train_values[train_signs.diagnosis==1].values[:,1:],\n",
    "                              train_values[train_signs.diagnosis==0].values[:,1:])"
   ]
  },
  {
   "cell_type": "code",
   "execution_count": 77,
   "metadata": {},
   "outputs": [],
   "source": []
  },
  {
   "cell_type": "code",
   "execution_count": 38,
   "metadata": {},
   "outputs": [
    {
     "data": {
      "text/plain": [
       "73.07513472747578"
      ]
     },
     "execution_count": 38,
     "metadata": {},
     "output_type": "execute_result"
    }
   ],
   "source": [
    "np.mean(dists_a)"
   ]
  },
  {
   "cell_type": "code",
   "execution_count": 39,
   "metadata": {},
   "outputs": [
    {
     "data": {
      "text/plain": [
       "71.73264200720394"
      ]
     },
     "execution_count": 39,
     "metadata": {},
     "output_type": "execute_result"
    }
   ],
   "source": [
    "np.mean(dists_c)"
   ]
  },
  {
   "cell_type": "code",
   "execution_count": 40,
   "metadata": {},
   "outputs": [
    {
     "data": {
      "text/plain": [
       "77.82659951033283"
      ]
     },
     "execution_count": 40,
     "metadata": {},
     "output_type": "execute_result"
    }
   ],
   "source": [
    "np.mean(dists_ac)"
   ]
  },
  {
   "cell_type": "markdown",
   "metadata": {},
   "source": [
    "### Подтвердилась\n",
    "\n",
    "# K-nearest neighbors"
   ]
  },
  {
   "cell_type": "code",
   "execution_count": 41,
   "metadata": {},
   "outputs": [],
   "source": [
    "from sklearn.neighbors import KNeighborsClassifier\n",
    "from sklearn.model_selection import cross_val_score, train_test_split, GridSearchCV"
   ]
  },
  {
   "cell_type": "code",
   "execution_count": 58,
   "metadata": {},
   "outputs": [
    {
     "name": "stdout",
     "output_type": "stream",
     "text": [
      "[0.71428571 0.85714286 0.85714286 0.71428571 0.85714286 0.5\n",
      " 0.83333333 0.83333333 1.         0.83333333 0.66666667 1.\n",
      " 0.66666667 0.83333333 0.8       ]\n",
      "0.7977777777777778\n"
     ]
    },
    {
     "data": {
      "text/plain": [
       "count    15.000000\n",
       "mean      0.797778\n",
       "std       0.129399\n",
       "min       0.500000\n",
       "25%       0.714286\n",
       "50%       0.833333\n",
       "75%       0.857143\n",
       "max       1.000000\n",
       "dtype: float64"
      ]
     },
     "execution_count": 58,
     "metadata": {},
     "output_type": "execute_result"
    }
   ],
   "source": [
    "x = train_values.values[:,1:]\n",
    "y = train_signs.diagnosis.values\n",
    "\n",
    "\n",
    "knn = KNeighborsClassifier()\n",
    "knn_scores = cross_val_score(knn, x,y, n_jobs=4, cv=15)\n",
    "print(knn_scores)\n",
    "print(np.mean(knn_scores))\n",
    "pd.Series(knn_scores).describe()"
   ]
  },
  {
   "cell_type": "code",
   "execution_count": 48,
   "metadata": {},
   "outputs": [],
   "source": [
    "grid = GridSearchCV(knn,\n",
    "                    {'n_neighbors':range(1,10),\n",
    "                     'weights':['uniform','distance'],\n",
    "                     'algorithm':['auto', 'ball_tree', 'kd_tree', 'brute'],\n",
    "                     'p':range(1,3)},\n",
    "                    n_jobs = 4,\n",
    "                    cv=15, verbose=1)"
   ]
  },
  {
   "cell_type": "code",
   "execution_count": 49,
   "metadata": {},
   "outputs": [
    {
     "name": "stdout",
     "output_type": "stream",
     "text": [
      "Fitting 15 folds for each of 144 candidates, totalling 2160 fits\n"
     ]
    },
    {
     "name": "stderr",
     "output_type": "stream",
     "text": [
      "[Parallel(n_jobs=4)]: Done  50 tasks      | elapsed:    2.0s\n",
      "[Parallel(n_jobs=4)]: Done 650 tasks      | elapsed:    9.9s\n",
      "[Parallel(n_jobs=4)]: Done 1650 tasks      | elapsed:   23.5s\n",
      "[Parallel(n_jobs=4)]: Done 2160 out of 2160 | elapsed:   29.0s finished\n"
     ]
    }
   ],
   "source": [
    "scores = grid.fit(x,y)"
   ]
  },
  {
   "cell_type": "code",
   "execution_count": 50,
   "metadata": {},
   "outputs": [
    {
     "name": "stdout",
     "output_type": "stream",
     "text": [
      "0.8191489361702128\n"
     ]
    }
   ],
   "source": [
    "b_knn = scores.best_estimator_\n",
    "print(scores.best_score_)"
   ]
  },
  {
   "cell_type": "markdown",
   "metadata": {},
   "source": [
    "# Качество KNN ~ 0,82"
   ]
  },
  {
   "cell_type": "markdown",
   "metadata": {},
   "source": [
    "# RandomForest"
   ]
  },
  {
   "cell_type": "code",
   "execution_count": 78,
   "metadata": {},
   "outputs": [],
   "source": [
    "from sklearn.ensemble import RandomForestClassifier\n",
    "\n",
    "rf = RandomForestClassifier(n_estimators=100, criterion='entropy', oob_score=True, verbose=1, random_state = random_state)"
   ]
  },
  {
   "cell_type": "code",
   "execution_count": 79,
   "metadata": {},
   "outputs": [],
   "source": [
    "rf_scores = cross_val_score(rf, x,y,n_jobs=4, cv=15)"
   ]
  },
  {
   "cell_type": "code",
   "execution_count": 80,
   "metadata": {},
   "outputs": [
    {
     "name": "stdout",
     "output_type": "stream",
     "text": [
      "[0.57142857 0.85714286 0.85714286 0.85714286 0.85714286 0.5\n",
      " 1.         1.         1.         0.83333333 0.66666667 1.\n",
      " 1.         1.         1.        ]\n",
      "0.8666666666666667\n"
     ]
    },
    {
     "data": {
      "text/plain": [
       "count    15.000000\n",
       "mean      0.866667\n",
       "std       0.166375\n",
       "min       0.500000\n",
       "25%       0.845238\n",
       "50%       0.857143\n",
       "75%       1.000000\n",
       "max       1.000000\n",
       "dtype: float64"
      ]
     },
     "execution_count": 80,
     "metadata": {},
     "output_type": "execute_result"
    }
   ],
   "source": [
    "print(rf_scores)\n",
    "print(np.mean(rf_scores))\n",
    "pd.Series(rf_scores).describe()"
   ]
  },
  {
   "cell_type": "markdown",
   "metadata": {},
   "source": [
    "# Точность RF - 0,86(6)\n",
    "\n",
    "**Качество - выше, но стабильность - ниже(что не удивительно для метода псевдослучайной природы)**\n",
    "\n",
    "# Гипотеза: Использование только важных фичей в KNN - повысит качество."
   ]
  },
  {
   "cell_type": "code",
   "execution_count": 82,
   "metadata": {},
   "outputs": [
    {
     "name": "stdout",
     "output_type": "stream",
     "text": [
      "(435,)\n",
      "1866\n"
     ]
    },
    {
     "name": "stderr",
     "output_type": "stream",
     "text": [
      "[Parallel(n_jobs=1)]: Done 100 out of 100 | elapsed:    0.0s finished\n"
     ]
    },
    {
     "data": {
      "text/plain": [
       "count    435.000000\n",
       "mean       0.229885\n",
       "std        0.249296\n",
       "min        0.031043\n",
       "25%        0.089457\n",
       "50%        0.149399\n",
       "75%        0.254861\n",
       "max        1.832611\n",
       "dtype: float64"
      ]
     },
     "execution_count": 82,
     "metadata": {},
     "output_type": "execute_result"
    }
   ],
   "source": [
    "rf.fit(x,y)\n",
    "feat_filt = np.nonzero(rf.feature_importances_)[0]\n",
    "print(feat_filt.shape)\n",
    "print(x.shape[1])\n",
    "pd.Series(rf.feature_importances_[np.nonzero(rf.feature_importances_)[0]]*100).describe()"
   ]
  },
  {
   "cell_type": "code",
   "execution_count": 83,
   "metadata": {},
   "outputs": [],
   "source": [
    "imp_x = train_values.values[:,1:][:,np.nonzero(rf.feature_importances_)[0]]"
   ]
  },
  {
   "cell_type": "code",
   "execution_count": 85,
   "metadata": {},
   "outputs": [
    {
     "data": {
      "text/plain": [
       "KNeighborsClassifier(algorithm='auto', leaf_size=30, metric='minkowski',\n",
       "           metric_params=None, n_jobs=4, n_neighbors=5, p=1,\n",
       "           weights='uniform')"
      ]
     },
     "execution_count": 85,
     "metadata": {},
     "output_type": "execute_result"
    }
   ],
   "source": [
    "knn_scores_imp = cross_val_score(b_knn, imp_x, y, n_jobs=15, cv=15)\n",
    "b_knn.fit(imp_x, y)"
   ]
  },
  {
   "cell_type": "code",
   "execution_count": 86,
   "metadata": {},
   "outputs": [
    {
     "name": "stdout",
     "output_type": "stream",
     "text": [
      "[0.85714286 0.85714286 0.85714286 1.         1.         0.5\n",
      " 1.         1.         1.         1.         0.66666667 0.83333333\n",
      " 0.83333333 1.         0.8       ]\n",
      "0.8803174603174604\n"
     ]
    },
    {
     "data": {
      "text/plain": [
       "count    15.000000\n",
       "mean      0.880317\n",
       "std       0.147123\n",
       "min       0.500000\n",
       "25%       0.833333\n",
       "50%       0.857143\n",
       "75%       1.000000\n",
       "max       1.000000\n",
       "dtype: float64"
      ]
     },
     "execution_count": 86,
     "metadata": {},
     "output_type": "execute_result"
    }
   ],
   "source": [
    "print(knn_scores_imp)\n",
    "print(np.mean(knn_scores_imp))\n",
    "pd.Series(knn_scores_imp).describe()"
   ]
  },
  {
   "cell_type": "markdown",
   "metadata": {},
   "source": [
    "### Качество KNN с фичами RF - 0.88\n",
    "**(что лучше, чем у RF)**"
   ]
  },
  {
   "cell_type": "markdown",
   "metadata": {},
   "source": [
    "- Это все? - Нет.\n",
    "- Псевдорандомные алгоритмы вроде RF - ведут себя очень по разному в зависимости от инициализации.\n",
    "- А фичи из RF используются у нас в том числе для обучения не случайного KNN.\n",
    "- Что делать?\n",
    "- Проверить хотя бы пару сотен random_seed"
   ]
  },
  {
   "cell_type": "code",
   "execution_count": 91,
   "metadata": {},
   "outputs": [],
   "source": [
    "import pandas as pd\n",
    "import numpy as np\n",
    "\n",
    "from sklearn.ensemble import RandomForestClassifier\n",
    "from sklearn.neighbors import KNeighborsClassifier\n",
    "\n",
    "def get_autism_classifiers(folder, labels = {'autism':1,'control':0}, # folder - could receive pre-scanned data as tuple\n",
    "                           age_feat=833, random_state=42, n_jobs=None):\n",
    "    values = pd.read_csv(f'{folder}train_df.csv')\n",
    "    signs = pd.read_csv(f'{folder}train_meta.csv')\n",
    "    \n",
    "    y = np.vectorize(labels.__getitem__)(signs.diagnosis.values)\n",
    "    x = values.values[:,1:]\n",
    "    \n",
    "    knn = KNeighborsClassifier(algorithm='auto', leaf_size=30, metric='minkowski',\n",
    "                               metric_params=None, n_jobs=n_jobs, n_neighbors=5, p=1,\n",
    "                               weights='uniform')\n",
    "    \n",
    "    rf = RandomForestClassifier(n_estimators=100, random_state=random_state,\n",
    "                                criterion='entropy',\n",
    "                                oob_score=True, verbose=1, n_jobs=n_jobs)\n",
    "    \n",
    "    rf.fit(x,y)\n",
    "    features = np.array(list(set(np.nonzero(rf.feature_importances_)[0])-set([833])))\n",
    "    imp_x = values.values[:,1:][:,features]\n",
    "    \n",
    "    rf = RandomForestClassifier(bootstrap=True, class_weight=None, criterion='gini',\n",
    "                            max_depth=5, max_features='auto', max_leaf_nodes=None,\n",
    "                            min_impurity_decrease=0.0, min_impurity_split=None,\n",
    "                            min_samples_leaf=1, min_samples_split=10,\n",
    "                            min_weight_fraction_leaf=0.0, n_estimators=100, n_jobs=n_jobs,\n",
    "                            oob_score=True, random_state=random_state, verbose=0, warm_start=False)\n",
    "    \n",
    "    rf.fit(x, y)\n",
    "    knn.fit(imp_x, y)\n",
    "    \n",
    "    knn_score = cross_val_score(knn, imp_x, y, cv=15, )\n",
    "    rf_score = cross_val_score(rf, imp_x, y, cv=15)\n",
    "    \n",
    "    return features, knn, rf, knn_score, rf_score"
   ]
  },
  {
   "cell_type": "code",
   "execution_count": null,
   "metadata": {},
   "outputs": [],
   "source": [
    "scores = {}\n",
    "for i in range(1000):\n",
    "    features, knn, rf, knn_s, rf_s = get_autism_classifiers('train/', random_state=i)\n",
    "    scores[i] = np.array([np.mean([knn_s.mean(),rf_s.mean()]), knn_s, rf_s])\n",
    "    if np.mean(knn_s) > best_knn[1]:\n",
    "        best_knn = (i, np.mean(knn_s))\n",
    "    if np.mean(rf_s) > best_rf[1]:\n",
    "        best_rf = (i, np.mean(rf_s))"
   ]
  },
  {
   "cell_type": "code",
   "execution_count": 88,
   "metadata": {},
   "outputs": [],
   "source": [
    "best_knn = (537, 0.9158)\n",
    "best_rf = (11, 0.9142)"
   ]
  },
  {
   "cell_type": "markdown",
   "metadata": {},
   "source": [
    "# Качество KNN с лучшими фичами: 0.9158\n",
    "# Качество RF с лучшими рандомом: 0.9142"
   ]
  },
  {
   "cell_type": "code",
   "execution_count": 93,
   "metadata": {},
   "outputs": [
    {
     "name": "stderr",
     "output_type": "stream",
     "text": [
      "[Parallel(n_jobs=4)]: Done  42 tasks      | elapsed:    0.0s\n",
      "[Parallel(n_jobs=4)]: Done 100 out of 100 | elapsed:    0.0s finished\n",
      "[Parallel(n_jobs=4)]: Done  42 tasks      | elapsed:    0.0s\n",
      "[Parallel(n_jobs=4)]: Done 100 out of 100 | elapsed:    0.0s finished\n"
     ]
    }
   ],
   "source": [
    "knn_features, b_knn, rf, b_knn_s, rf_s = get_autism_classifiers('train/', random_state=best_knn[0], n_jobs=4)\n",
    "rf_features, knn, b_rf, knn_s, b_rf_s = get_autism_classifiers('train/', random_state=best_rf[0], n_jobs=4)"
   ]
  },
  {
   "cell_type": "code",
   "execution_count": 89,
   "metadata": {},
   "outputs": [],
   "source": [
    "test_vals = pd.read_csv('test/test_df.csv')\n",
    "test_tar = pd.read_csv('test/test_meta.csv')"
   ]
  },
  {
   "cell_type": "code",
   "execution_count": 99,
   "metadata": {},
   "outputs": [],
   "source": [
    "x_test_knn = test_vals.values[:,1:][:,knn_features]\n",
    "x_test_rf = test_vals.values[:,1:]"
   ]
  },
  {
   "cell_type": "code",
   "execution_count": 100,
   "metadata": {},
   "outputs": [],
   "source": [
    "knn_pred = b_knn.predict(x_test_knn)\n",
    "rf_pred = b_rf.predict(x_test_rf)"
   ]
  },
  {
   "cell_type": "code",
   "execution_count": 188,
   "metadata": {},
   "outputs": [],
   "source": [
    "from sklearn.model_selection import cross_validate\n",
    "knn_test = cross_validate(b_knn, x[:,knn_features], y, cv=15, n_jobs=4, scoring=['accuracy', 'f1_macro', 'f1_micro', 'roc_auc'])\n",
    "rf_test = cross_validate(b_rf, x[:,rf_features], y, cv=15, n_jobs=4, scoring=['accuracy', 'f1_macro', 'f1_micro', 'roc_auc'])"
   ]
  },
  {
   "cell_type": "code",
   "execution_count": 189,
   "metadata": {},
   "outputs": [
    {
     "name": "stdout",
     "output_type": "stream",
     "text": [
      "KNN F1-macro: 0.8872727272727272\n",
      "KNN F1-macro: 0.915873015873016\n",
      "\n",
      "RF F1-macro 0.8218518518518519\n",
      "RF F1-micro 0.8825396825396826\n"
     ]
    }
   ],
   "source": [
    "knn_f1_macro = np.mean(knn_test[\"test_f1_macro\"])\n",
    "knn_f1_micro = np.mean(knn_test[\"test_f1_micro\"])\n",
    "rf_f1_macro = np.mean(rf_test[\"test_f1_macro\"])\n",
    "rf_f1_micro = np.mean(rf_test[\"test_f1_micro\"])\n",
    "print(f'KNN F1-macro: {knn_f1_macro}')\n",
    "print(f'KNN F1-macro: {knn_f1_micro}')\n",
    "print()\n",
    "print(f'RF F1-macro {rf_f1_macro}')\n",
    "print(f'RF F1-micro {rf_f1_micro}')"
   ]
  },
  {
   "cell_type": "code",
   "execution_count": 103,
   "metadata": {},
   "outputs": [
    {
     "name": "stdout",
     "output_type": "stream",
     "text": [
      "[0 0 1 1 0 0 1 1 1 1 1 0]\n",
      "[0 0 1 1 0 0 1 1 1 1 0 0]\n"
     ]
    }
   ],
   "source": [
    "print(knn_pred)\n",
    "print(rf_pred)"
   ]
  },
  {
   "cell_type": "code",
   "execution_count": 105,
   "metadata": {},
   "outputs": [],
   "source": [
    "from sklearn.ensemble import GradientBoostingClassifier\n",
    "gb = GradientBoostingClassifier()\n",
    "gb_scores = cross_val_score(gb, x, y, n_jobs=4, cv=15)"
   ]
  },
  {
   "cell_type": "code",
   "execution_count": 106,
   "metadata": {},
   "outputs": [
    {
     "name": "stdout",
     "output_type": "stream",
     "text": [
      "[0.71428571 1.         0.57142857 0.85714286 0.85714286 0.83333333\n",
      " 1.         0.83333333 1.         0.66666667 0.83333333 1.\n",
      " 0.66666667 1.         0.6       ]\n",
      "0.8288888888888888\n"
     ]
    },
    {
     "data": {
      "text/plain": [
       "count    15.000000\n",
       "mean      0.828889\n",
       "std       0.154109\n",
       "min       0.571429\n",
       "25%       0.690476\n",
       "50%       0.833333\n",
       "75%       1.000000\n",
       "max       1.000000\n",
       "dtype: float64"
      ]
     },
     "execution_count": 106,
     "metadata": {},
     "output_type": "execute_result"
    }
   ],
   "source": [
    "print(gb_scores)\n",
    "print(np.mean(gb_scores))\n",
    "pd.Series(gb_scores).describe()"
   ]
  },
  {
   "cell_type": "code",
   "execution_count": 110,
   "metadata": {},
   "outputs": [],
   "source": [
    "gb.fit(x,y)\n",
    "gb_pred = gb.predict(x_test_rf)"
   ]
  },
  {
   "cell_type": "code",
   "execution_count": 111,
   "metadata": {},
   "outputs": [
    {
     "data": {
      "text/plain": [
       "array([0, 0, 0, 0, 0, 0, 0, 0, 1, 1, 0, 0])"
      ]
     },
     "execution_count": 111,
     "metadata": {},
     "output_type": "execute_result"
    }
   ],
   "source": [
    "gb_pred"
   ]
  },
  {
   "cell_type": "code",
   "execution_count": 112,
   "metadata": {},
   "outputs": [
    {
     "data": {
      "text/plain": [
       "Unnamed: 0    sample106\n",
       "age                  10\n",
       "sex                   F\n",
       "Name: 11, dtype: object"
      ]
     },
     "execution_count": 112,
     "metadata": {},
     "output_type": "execute_result"
    }
   ],
   "source": [
    "test_tar.iloc[-1]"
   ]
  },
  {
   "cell_type": "code",
   "execution_count": 114,
   "metadata": {},
   "outputs": [],
   "source": [
    "test_tar['diagnosis'] = np.vectorize(labels_inv.__getitem__)(rf_pred)"
   ]
  },
  {
   "cell_type": "code",
   "execution_count": 115,
   "metadata": {},
   "outputs": [
    {
     "data": {
      "text/html": [
       "<div>\n",
       "<style scoped>\n",
       "    .dataframe tbody tr th:only-of-type {\n",
       "        vertical-align: middle;\n",
       "    }\n",
       "\n",
       "    .dataframe tbody tr th {\n",
       "        vertical-align: top;\n",
       "    }\n",
       "\n",
       "    .dataframe thead th {\n",
       "        text-align: right;\n",
       "    }\n",
       "</style>\n",
       "<table border=\"1\" class=\"dataframe\">\n",
       "  <thead>\n",
       "    <tr style=\"text-align: right;\">\n",
       "      <th></th>\n",
       "      <th>Unnamed: 0</th>\n",
       "      <th>age</th>\n",
       "      <th>sex</th>\n",
       "      <th>diagnosis</th>\n",
       "    </tr>\n",
       "  </thead>\n",
       "  <tbody>\n",
       "    <tr>\n",
       "      <th>0</th>\n",
       "      <td>sample95</td>\n",
       "      <td>4.0</td>\n",
       "      <td>F</td>\n",
       "      <td>control</td>\n",
       "    </tr>\n",
       "    <tr>\n",
       "      <th>1</th>\n",
       "      <td>sample96</td>\n",
       "      <td>9.0</td>\n",
       "      <td>M</td>\n",
       "      <td>control</td>\n",
       "    </tr>\n",
       "    <tr>\n",
       "      <th>2</th>\n",
       "      <td>sample97</td>\n",
       "      <td>16.0</td>\n",
       "      <td>F</td>\n",
       "      <td>autism</td>\n",
       "    </tr>\n",
       "    <tr>\n",
       "      <th>3</th>\n",
       "      <td>sample98</td>\n",
       "      <td>6.0</td>\n",
       "      <td>M</td>\n",
       "      <td>autism</td>\n",
       "    </tr>\n",
       "    <tr>\n",
       "      <th>4</th>\n",
       "      <td>sample99</td>\n",
       "      <td>8.0</td>\n",
       "      <td>M</td>\n",
       "      <td>control</td>\n",
       "    </tr>\n",
       "    <tr>\n",
       "      <th>5</th>\n",
       "      <td>sample100</td>\n",
       "      <td>8.0</td>\n",
       "      <td>M</td>\n",
       "      <td>control</td>\n",
       "    </tr>\n",
       "    <tr>\n",
       "      <th>6</th>\n",
       "      <td>sample101</td>\n",
       "      <td>3.0</td>\n",
       "      <td>M</td>\n",
       "      <td>autism</td>\n",
       "    </tr>\n",
       "    <tr>\n",
       "      <th>7</th>\n",
       "      <td>sample102</td>\n",
       "      <td>7.0</td>\n",
       "      <td>F</td>\n",
       "      <td>autism</td>\n",
       "    </tr>\n",
       "    <tr>\n",
       "      <th>8</th>\n",
       "      <td>sample103</td>\n",
       "      <td>6.0</td>\n",
       "      <td>M</td>\n",
       "      <td>autism</td>\n",
       "    </tr>\n",
       "    <tr>\n",
       "      <th>9</th>\n",
       "      <td>sample104</td>\n",
       "      <td>6.0</td>\n",
       "      <td>M</td>\n",
       "      <td>autism</td>\n",
       "    </tr>\n",
       "    <tr>\n",
       "      <th>10</th>\n",
       "      <td>sample105</td>\n",
       "      <td>6.0</td>\n",
       "      <td>F</td>\n",
       "      <td>control</td>\n",
       "    </tr>\n",
       "    <tr>\n",
       "      <th>11</th>\n",
       "      <td>sample106</td>\n",
       "      <td>10.0</td>\n",
       "      <td>F</td>\n",
       "      <td>control</td>\n",
       "    </tr>\n",
       "  </tbody>\n",
       "</table>\n",
       "</div>"
      ],
      "text/plain": [
       "   Unnamed: 0   age sex diagnosis\n",
       "0    sample95   4.0   F   control\n",
       "1    sample96   9.0   M   control\n",
       "2    sample97  16.0   F    autism\n",
       "3    sample98   6.0   M    autism\n",
       "4    sample99   8.0   M   control\n",
       "5   sample100   8.0   M   control\n",
       "6   sample101   3.0   M    autism\n",
       "7   sample102   7.0   F    autism\n",
       "8   sample103   6.0   M    autism\n",
       "9   sample104   6.0   M    autism\n",
       "10  sample105   6.0   F   control\n",
       "11  sample106  10.0   F   control"
      ]
     },
     "execution_count": 115,
     "metadata": {},
     "output_type": "execute_result"
    }
   ],
   "source": [
    "test_tar"
   ]
  },
  {
   "cell_type": "markdown",
   "metadata": {},
   "source": [
    "# Про возраст"
   ]
  },
  {
   "cell_type": "code",
   "execution_count": 116,
   "metadata": {},
   "outputs": [],
   "source": [
    "from sklearn.ensemble import RandomForestClassifier\n",
    "\n",
    "rf = RandomForestClassifier(n_estimators=100, criterion='entropy', oob_score=True, verbose=1, random_state = random_state)"
   ]
  },
  {
   "cell_type": "code",
   "execution_count": 122,
   "metadata": {},
   "outputs": [],
   "source": [
    "age_y = (train_signs.age>20).astype(int)\n",
    "age_score = cross_val_score(rf, x, age_y, cv=15, n_jobs=4)"
   ]
  },
  {
   "cell_type": "code",
   "execution_count": 123,
   "metadata": {},
   "outputs": [
    {
     "name": "stdout",
     "output_type": "stream",
     "text": [
      "[0.57142857 1.         1.         0.71428571 1.         0.83333333\n",
      " 1.         0.66666667 1.         1.         1.         0.83333333\n",
      " 0.83333333 0.83333333 0.6       ]\n",
      "0.8590476190476191\n"
     ]
    },
    {
     "data": {
      "text/plain": [
       "count    15.000000\n",
       "mean      0.859048\n",
       "std       0.158004\n",
       "min       0.571429\n",
       "25%       0.773810\n",
       "50%       0.833333\n",
       "75%       1.000000\n",
       "max       1.000000\n",
       "dtype: float64"
      ]
     },
     "execution_count": 123,
     "metadata": {},
     "output_type": "execute_result"
    }
   ],
   "source": [
    "print(age_score)\n",
    "print(np.mean(age_score))\n",
    "pd.Series(age_score).describe()"
   ]
  },
  {
   "cell_type": "code",
   "execution_count": 124,
   "metadata": {},
   "outputs": [
    {
     "name": "stderr",
     "output_type": "stream",
     "text": [
      "[Parallel(n_jobs=1)]: Done 100 out of 100 | elapsed:    0.0s finished\n"
     ]
    },
    {
     "data": {
      "text/plain": [
       "RandomForestClassifier(bootstrap=True, class_weight=None, criterion='entropy',\n",
       "            max_depth=None, max_features='auto', max_leaf_nodes=None,\n",
       "            min_impurity_decrease=0.0, min_impurity_split=None,\n",
       "            min_samples_leaf=1, min_samples_split=2,\n",
       "            min_weight_fraction_leaf=0.0, n_estimators=100, n_jobs=1,\n",
       "            oob_score=True, random_state=42, verbose=1, warm_start=False)"
      ]
     },
     "execution_count": 124,
     "metadata": {},
     "output_type": "execute_result"
    }
   ],
   "source": [
    "rf.fit(x, age_y)"
   ]
  },
  {
   "cell_type": "code",
   "execution_count": 126,
   "metadata": {},
   "outputs": [
    {
     "data": {
      "text/plain": [
       "count    458.000000\n",
       "mean       0.218341\n",
       "std        0.241724\n",
       "min        0.021733\n",
       "25%        0.083584\n",
       "50%        0.142749\n",
       "75%        0.262876\n",
       "max        3.306034\n",
       "dtype: float64"
      ]
     },
     "execution_count": 126,
     "metadata": {},
     "output_type": "execute_result"
    }
   ],
   "source": [
    "pd.Series(100*rf.feature_importances_[np.nonzero(rf.feature_importances_)[0]]).describe()"
   ]
  },
  {
   "cell_type": "code",
   "execution_count": 127,
   "metadata": {},
   "outputs": [
    {
     "data": {
      "text/plain": [
       "833"
      ]
     },
     "execution_count": 127,
     "metadata": {},
     "output_type": "execute_result"
    }
   ],
   "source": [
    "np.argmax(rf.feature_importances_)"
   ]
  },
  {
   "cell_type": "code",
   "execution_count": 132,
   "metadata": {},
   "outputs": [],
   "source": [
    "aged = x[np.nonzero(train_signs.age>20)[0]]"
   ]
  },
  {
   "cell_type": "code",
   "execution_count": 134,
   "metadata": {},
   "outputs": [],
   "source": [
    "young = x[np.nonzero(train_signs.age<=20)[0]]"
   ]
  },
  {
   "cell_type": "code",
   "execution_count": 173,
   "metadata": {},
   "outputs": [
    {
     "data": {
      "text/plain": [
       "<matplotlib.axes._subplots.AxesSubplot at 0x24aad4afeb8>"
      ]
     },
     "execution_count": 173,
     "metadata": {},
     "output_type": "execute_result"
    },
    {
     "data": {
      "image/png": "[encoded data removed]",
      "text/plain": [
       "<Figure size 1152x360 with 1 Axes>"
      ]
     },
     "metadata": {
      "needs_background": "light"
     },
     "output_type": "display_data"
    }
   ],
   "source": [
    "pd.Series(young[:, 833]).plot(kind='hist', figsize=(16,5))"
   ]
  },
  {
   "cell_type": "code",
   "execution_count": 172,
   "metadata": {},
   "outputs": [
    {
     "data": {
      "text/plain": [
       "<matplotlib.axes._subplots.AxesSubplot at 0x24aad5e0320>"
      ]
     },
     "execution_count": 172,
     "metadata": {},
     "output_type": "execute_result"
    },
    {
     "data": {
      "image/png": "[encoded data removed]",
      "text/plain": [
       "<Figure size 1152x360 with 1 Axes>"
      ]
     },
     "metadata": {
      "needs_background": "light"
     },
     "output_type": "display_data"
    }
   ],
   "source": [
    "pd.Series(aged[:, 833]).plot(kind='hist', figsize=(16,5))"
   ]
  },
  {
   "cell_type": "code",
   "execution_count": 162,
   "metadata": {},
   "outputs": [
    {
     "name": "stdout",
     "output_type": "stream",
     "text": [
      "39\n"
     ]
    }
   ],
   "source": [
    "feat_det = len(np.nonzero(x[:,833]>9.5)[0])\n",
    "print(feat_det)"
   ]
  },
  {
   "cell_type": "code",
   "execution_count": 163,
   "metadata": {},
   "outputs": [
    {
     "name": "stdout",
     "output_type": "stream",
     "text": [
      "35\n"
     ]
    }
   ],
   "source": [
    "age_det = len(np.nonzero(train_signs.age<=20)[0])\n",
    "print(age_det)"
   ]
  },
  {
   "cell_type": "code",
   "execution_count": 164,
   "metadata": {},
   "outputs": [
    {
     "name": "stdout",
     "output_type": "stream",
     "text": [
      "30\n"
     ]
    }
   ],
   "source": [
    "age_match = len(set(np.nonzero(train_signs.age<=20)[0]) & set(np.nonzero(x[:,833]>9.5)[0]))\n",
    "print(age_match)"
   ]
  },
  {
   "cell_type": "code",
   "execution_count": 165,
   "metadata": {},
   "outputs": [],
   "source": [
    "fp_error = feat_det - age_match\n",
    "fn_errpr = age_det - age_match"
   ]
  },
  {
   "cell_type": "code",
   "execution_count": 169,
   "metadata": {},
   "outputs": [
    {
     "name": "stdout",
     "output_type": "stream",
     "text": [
      "Age accuracy one feature: 85.1063829787234\n",
      "Age accuracy all features: 85.90476190476191\n",
      "Difference: 0.7983789260385095\n"
     ]
    }
   ],
   "source": [
    "print(f'Age accuracy one feature: {100*(1 - (fp_error+fn_errpr)/len(train_signs))}')\n",
    "print(f'Age accuracy all features: {100*np.mean(age_score)}')\n",
    "print(f'Difference: {np.abs(100*np.mean(age_score) - 100*(1 - (fp_error+fn_errpr)/len(train_signs)))}')"
   ]
  },
  {
   "cell_type": "code",
   "execution_count": null,
   "metadata": {},
   "outputs": [],
   "source": []
  }
 ],
 "metadata": {
  "kernelspec": {
   "display_name": "Python 3",
   "language": "python",
   "name": "python3"
  },
  "language_info": {
   "codemirror_mode": {
    "name": "ipython",
    "version": 3
   },
   "file_extension": ".py",
   "mimetype": "text/x-python",
   "name": "python",
   "nbconvert_exporter": "python",
   "pygments_lexer": "ipython3",
   "version": "3.6.1"
  }
 },
 "nbformat": 4,
 "nbformat_minor": 2
}
